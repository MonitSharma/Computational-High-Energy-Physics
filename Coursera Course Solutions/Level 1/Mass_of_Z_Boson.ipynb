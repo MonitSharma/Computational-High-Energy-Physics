{
  "nbformat": 4,
  "nbformat_minor": 0,
  "metadata": {
    "colab": {
      "name": "Mass of Z-Boson.ipynb",
      "provenance": []
    },
    "kernelspec": {
      "name": "python3",
      "display_name": "Python 3"
    },
    "language_info": {
      "name": "python"
    }
  },
  "cells": [
    {
      "cell_type": "markdown",
      "source": [
        "## Getting the mass of the Z Boson\n",
        "\n",
        "We see at the sample dataset recorded by CMS in 2011 and was published at CERN opendata portal. It comes from the DoubleMuon dataset with:\n",
        "\n",
        "\n",
        "1.   Both muons are \"global\" muons\n",
        "2.   Invariant mass sits in range: $60 MeV < M_{\\mu\\mu} < 120 GeV$\n",
        "3.  $|\\eta| < 2.1$ for both the muons.\n",
        "4.  $p_t > 20 GeV$\n",
        "\n",
        "\n",
        "\n"
      ],
      "metadata": {
        "id": "mZ1r7CvURaSZ"
      }
    },
    {
      "cell_type": "markdown",
      "source": [
        "### What does the CSV file contains?\n",
        "\n",
        "\n",
        "\n",
        "*   Run : Event are the run and event numbers, respectively\n",
        "\n",
        "\n",
        "\n",
        "*   $p_t$ : It is the transverse momentum of the muon\n",
        "*   $\\eta$ : It is the pseudorapidity of the muon $\\eta$\n",
        "\n",
        "\n",
        "\n",
        "*   $\\phi$ : It is the angle of the muon direction.\n",
        "*   Q : Is the charge of the muon.\n",
        "\n",
        "\n",
        "\n",
        "*   $d xy$ : It is the impact parameter in the transverse plane, how distant is the track from the collision point.\n",
        "*   iso : It is the track isolation , how many other tracks are there around the given track.\n",
        "\n",
        "\n",
        "\n",
        "\n",
        "\n",
        "\n",
        "\n"
      ],
      "metadata": {
        "id": "3xcCP9s_SGEq"
      }
    },
    {
      "cell_type": "markdown",
      "source": [
        "#### Doing the basic imports"
      ],
      "metadata": {
        "id": "mjqnkNiRUB_o"
      }
    },
    {
      "cell_type": "code",
      "execution_count": 3,
      "metadata": {
        "id": "LLT_PujXQbQv"
      },
      "outputs": [],
      "source": [
        "# doing the basic imports\n",
        "\n",
        "import numpy as np\n",
        "import pandas as pd\n",
        "import matplotlib.pyplot as plt\n",
        "from skopt import gp_minimize\n",
        "%matplotlib inline"
      ]
    },
    {
      "cell_type": "markdown",
      "source": [
        "#### Read the dataset available.\n",
        "Get the dataset from [here](http://opendata.cern.ch/record/545)"
      ],
      "metadata": {
        "id": "QgwyorpCUGaD"
      }
    },
    {
      "cell_type": "code",
      "source": [
        "df = pd.read_csv('zmass.csv')\n",
        "df.shape"
      ],
      "metadata": {
        "colab": {
          "base_uri": "https://localhost:8080/"
        },
        "id": "Nwvx0OFwT1Jj",
        "outputId": "97e99ec0-5795-4914-edf0-b5c790f456ba"
      },
      "execution_count": 4,
      "outputs": [
        {
          "output_type": "execute_result",
          "data": {
            "text/plain": [
              "(10000, 14)"
            ]
          },
          "metadata": {},
          "execution_count": 4
        }
      ]
    },
    {
      "cell_type": "code",
      "source": [
        "df"
      ],
      "metadata": {
        "colab": {
          "base_uri": "https://localhost:8080/",
          "height": 488
        },
        "id": "G5dvwzFGUNuO",
        "outputId": "6a8f229e-6ed8-4269-ca44-7ac1877b856a"
      },
      "execution_count": 5,
      "outputs": [
        {
          "output_type": "execute_result",
          "data": {
            "text/html": [
              "\n",
              "  <div id=\"df-99808bd7-2cf9-460b-8cec-6b0513aac85c\">\n",
              "    <div class=\"colab-df-container\">\n",
              "      <div>\n",
              "<style scoped>\n",
              "    .dataframe tbody tr th:only-of-type {\n",
              "        vertical-align: middle;\n",
              "    }\n",
              "\n",
              "    .dataframe tbody tr th {\n",
              "        vertical-align: top;\n",
              "    }\n",
              "\n",
              "    .dataframe thead th {\n",
              "        text-align: right;\n",
              "    }\n",
              "</style>\n",
              "<table border=\"1\" class=\"dataframe\">\n",
              "  <thead>\n",
              "    <tr style=\"text-align: right;\">\n",
              "      <th></th>\n",
              "      <th>Run</th>\n",
              "      <th>Event</th>\n",
              "      <th>pt1</th>\n",
              "      <th>eta1</th>\n",
              "      <th>phi1</th>\n",
              "      <th>Q1</th>\n",
              "      <th>dxy1</th>\n",
              "      <th>iso1</th>\n",
              "      <th>pt2</th>\n",
              "      <th>eta2</th>\n",
              "      <th>phi2</th>\n",
              "      <th>Q2</th>\n",
              "      <th>dxy2</th>\n",
              "      <th>iso2</th>\n",
              "    </tr>\n",
              "  </thead>\n",
              "  <tbody>\n",
              "    <tr>\n",
              "      <th>0</th>\n",
              "      <td>165617</td>\n",
              "      <td>74969122</td>\n",
              "      <td>54.7055</td>\n",
              "      <td>-0.4324</td>\n",
              "      <td>2.5742</td>\n",
              "      <td>1</td>\n",
              "      <td>-0.0745</td>\n",
              "      <td>0.4999</td>\n",
              "      <td>34.2464</td>\n",
              "      <td>-0.9885</td>\n",
              "      <td>-0.4987</td>\n",
              "      <td>-1</td>\n",
              "      <td>0.0712</td>\n",
              "      <td>3.4221</td>\n",
              "    </tr>\n",
              "    <tr>\n",
              "      <th>1</th>\n",
              "      <td>165617</td>\n",
              "      <td>75138253</td>\n",
              "      <td>24.5872</td>\n",
              "      <td>-2.0522</td>\n",
              "      <td>2.8666</td>\n",
              "      <td>-1</td>\n",
              "      <td>-0.0554</td>\n",
              "      <td>0.0000</td>\n",
              "      <td>28.5389</td>\n",
              "      <td>0.3852</td>\n",
              "      <td>-1.9912</td>\n",
              "      <td>1</td>\n",
              "      <td>0.0515</td>\n",
              "      <td>0.0000</td>\n",
              "    </tr>\n",
              "    <tr>\n",
              "      <th>2</th>\n",
              "      <td>165617</td>\n",
              "      <td>75887636</td>\n",
              "      <td>31.7386</td>\n",
              "      <td>-2.2595</td>\n",
              "      <td>-1.3323</td>\n",
              "      <td>-1</td>\n",
              "      <td>0.0879</td>\n",
              "      <td>0.0000</td>\n",
              "      <td>30.2344</td>\n",
              "      <td>-0.4684</td>\n",
              "      <td>1.8833</td>\n",
              "      <td>1</td>\n",
              "      <td>-0.0876</td>\n",
              "      <td>0.0000</td>\n",
              "    </tr>\n",
              "    <tr>\n",
              "      <th>3</th>\n",
              "      <td>165617</td>\n",
              "      <td>75779415</td>\n",
              "      <td>39.7394</td>\n",
              "      <td>-0.7123</td>\n",
              "      <td>-0.3123</td>\n",
              "      <td>1</td>\n",
              "      <td>0.0585</td>\n",
              "      <td>0.0000</td>\n",
              "      <td>48.2790</td>\n",
              "      <td>-0.1956</td>\n",
              "      <td>2.9703</td>\n",
              "      <td>-1</td>\n",
              "      <td>-0.0492</td>\n",
              "      <td>0.0000</td>\n",
              "    </tr>\n",
              "    <tr>\n",
              "      <th>4</th>\n",
              "      <td>165617</td>\n",
              "      <td>75098104</td>\n",
              "      <td>41.2998</td>\n",
              "      <td>-0.1571</td>\n",
              "      <td>-3.0408</td>\n",
              "      <td>1</td>\n",
              "      <td>-0.0305</td>\n",
              "      <td>1.2280</td>\n",
              "      <td>43.4508</td>\n",
              "      <td>0.5910</td>\n",
              "      <td>-0.0428</td>\n",
              "      <td>-1</td>\n",
              "      <td>0.0442</td>\n",
              "      <td>0.0000</td>\n",
              "    </tr>\n",
              "    <tr>\n",
              "      <th>...</th>\n",
              "      <td>...</td>\n",
              "      <td>...</td>\n",
              "      <td>...</td>\n",
              "      <td>...</td>\n",
              "      <td>...</td>\n",
              "      <td>...</td>\n",
              "      <td>...</td>\n",
              "      <td>...</td>\n",
              "      <td>...</td>\n",
              "      <td>...</td>\n",
              "      <td>...</td>\n",
              "      <td>...</td>\n",
              "      <td>...</td>\n",
              "      <td>...</td>\n",
              "    </tr>\n",
              "    <tr>\n",
              "      <th>9995</th>\n",
              "      <td>173692</td>\n",
              "      <td>1245050481</td>\n",
              "      <td>8.9721</td>\n",
              "      <td>-1.6158</td>\n",
              "      <td>-2.7176</td>\n",
              "      <td>1</td>\n",
              "      <td>-0.0294</td>\n",
              "      <td>8.7183</td>\n",
              "      <td>13.5266</td>\n",
              "      <td>1.8709</td>\n",
              "      <td>2.7911</td>\n",
              "      <td>1</td>\n",
              "      <td>-0.0689</td>\n",
              "      <td>0.4202</td>\n",
              "    </tr>\n",
              "    <tr>\n",
              "      <th>9996</th>\n",
              "      <td>173692</td>\n",
              "      <td>1244979327</td>\n",
              "      <td>39.4543</td>\n",
              "      <td>-1.1310</td>\n",
              "      <td>-2.0568</td>\n",
              "      <td>1</td>\n",
              "      <td>0.0417</td>\n",
              "      <td>0.0000</td>\n",
              "      <td>47.7209</td>\n",
              "      <td>-0.1834</td>\n",
              "      <td>1.7965</td>\n",
              "      <td>-1</td>\n",
              "      <td>-0.0794</td>\n",
              "      <td>0.0000</td>\n",
              "    </tr>\n",
              "    <tr>\n",
              "      <th>9997</th>\n",
              "      <td>173692</td>\n",
              "      <td>1245305163</td>\n",
              "      <td>40.6034</td>\n",
              "      <td>-1.5051</td>\n",
              "      <td>-1.6758</td>\n",
              "      <td>-1</td>\n",
              "      <td>0.0635</td>\n",
              "      <td>0.2012</td>\n",
              "      <td>44.4382</td>\n",
              "      <td>-1.0010</td>\n",
              "      <td>1.5380</td>\n",
              "      <td>1</td>\n",
              "      <td>-0.0671</td>\n",
              "      <td>1.1499</td>\n",
              "    </tr>\n",
              "    <tr>\n",
              "      <th>9998</th>\n",
              "      <td>173692</td>\n",
              "      <td>1245041468</td>\n",
              "      <td>37.2853</td>\n",
              "      <td>1.0024</td>\n",
              "      <td>-2.1486</td>\n",
              "      <td>1</td>\n",
              "      <td>0.0361</td>\n",
              "      <td>0.0000</td>\n",
              "      <td>41.0945</td>\n",
              "      <td>-0.1200</td>\n",
              "      <td>0.8850</td>\n",
              "      <td>-1</td>\n",
              "      <td>-0.0291</td>\n",
              "      <td>0.0000</td>\n",
              "    </tr>\n",
              "    <tr>\n",
              "      <th>9999</th>\n",
              "      <td>173692</td>\n",
              "      <td>1244770092</td>\n",
              "      <td>40.7389</td>\n",
              "      <td>1.1202</td>\n",
              "      <td>-0.2863</td>\n",
              "      <td>-1</td>\n",
              "      <td>0.0670</td>\n",
              "      <td>0.6457</td>\n",
              "      <td>30.6292</td>\n",
              "      <td>-0.3396</td>\n",
              "      <td>2.8693</td>\n",
              "      <td>1</td>\n",
              "      <td>-0.0687</td>\n",
              "      <td>0.0000</td>\n",
              "    </tr>\n",
              "  </tbody>\n",
              "</table>\n",
              "<p>10000 rows × 14 columns</p>\n",
              "</div>\n",
              "      <button class=\"colab-df-convert\" onclick=\"convertToInteractive('df-99808bd7-2cf9-460b-8cec-6b0513aac85c')\"\n",
              "              title=\"Convert this dataframe to an interactive table.\"\n",
              "              style=\"display:none;\">\n",
              "        \n",
              "  <svg xmlns=\"http://www.w3.org/2000/svg\" height=\"24px\"viewBox=\"0 0 24 24\"\n",
              "       width=\"24px\">\n",
              "    <path d=\"M0 0h24v24H0V0z\" fill=\"none\"/>\n",
              "    <path d=\"M18.56 5.44l.94 2.06.94-2.06 2.06-.94-2.06-.94-.94-2.06-.94 2.06-2.06.94zm-11 1L8.5 8.5l.94-2.06 2.06-.94-2.06-.94L8.5 2.5l-.94 2.06-2.06.94zm10 10l.94 2.06.94-2.06 2.06-.94-2.06-.94-.94-2.06-.94 2.06-2.06.94z\"/><path d=\"M17.41 7.96l-1.37-1.37c-.4-.4-.92-.59-1.43-.59-.52 0-1.04.2-1.43.59L10.3 9.45l-7.72 7.72c-.78.78-.78 2.05 0 2.83L4 21.41c.39.39.9.59 1.41.59.51 0 1.02-.2 1.41-.59l7.78-7.78 2.81-2.81c.8-.78.8-2.07 0-2.86zM5.41 20L4 18.59l7.72-7.72 1.47 1.35L5.41 20z\"/>\n",
              "  </svg>\n",
              "      </button>\n",
              "      \n",
              "  <style>\n",
              "    .colab-df-container {\n",
              "      display:flex;\n",
              "      flex-wrap:wrap;\n",
              "      gap: 12px;\n",
              "    }\n",
              "\n",
              "    .colab-df-convert {\n",
              "      background-color: #E8F0FE;\n",
              "      border: none;\n",
              "      border-radius: 50%;\n",
              "      cursor: pointer;\n",
              "      display: none;\n",
              "      fill: #1967D2;\n",
              "      height: 32px;\n",
              "      padding: 0 0 0 0;\n",
              "      width: 32px;\n",
              "    }\n",
              "\n",
              "    .colab-df-convert:hover {\n",
              "      background-color: #E2EBFA;\n",
              "      box-shadow: 0px 1px 2px rgba(60, 64, 67, 0.3), 0px 1px 3px 1px rgba(60, 64, 67, 0.15);\n",
              "      fill: #174EA6;\n",
              "    }\n",
              "\n",
              "    [theme=dark] .colab-df-convert {\n",
              "      background-color: #3B4455;\n",
              "      fill: #D2E3FC;\n",
              "    }\n",
              "\n",
              "    [theme=dark] .colab-df-convert:hover {\n",
              "      background-color: #434B5C;\n",
              "      box-shadow: 0px 1px 3px 1px rgba(0, 0, 0, 0.15);\n",
              "      filter: drop-shadow(0px 1px 2px rgba(0, 0, 0, 0.3));\n",
              "      fill: #FFFFFF;\n",
              "    }\n",
              "  </style>\n",
              "\n",
              "      <script>\n",
              "        const buttonEl =\n",
              "          document.querySelector('#df-99808bd7-2cf9-460b-8cec-6b0513aac85c button.colab-df-convert');\n",
              "        buttonEl.style.display =\n",
              "          google.colab.kernel.accessAllowed ? 'block' : 'none';\n",
              "\n",
              "        async function convertToInteractive(key) {\n",
              "          const element = document.querySelector('#df-99808bd7-2cf9-460b-8cec-6b0513aac85c');\n",
              "          const dataTable =\n",
              "            await google.colab.kernel.invokeFunction('convertToInteractive',\n",
              "                                                     [key], {});\n",
              "          if (!dataTable) return;\n",
              "\n",
              "          const docLinkHtml = 'Like what you see? Visit the ' +\n",
              "            '<a target=\"_blank\" href=https://colab.research.google.com/notebooks/data_table.ipynb>data table notebook</a>'\n",
              "            + ' to learn more about interactive tables.';\n",
              "          element.innerHTML = '';\n",
              "          dataTable['output_type'] = 'display_data';\n",
              "          await google.colab.output.renderOutput(dataTable, element);\n",
              "          const docLink = document.createElement('div');\n",
              "          docLink.innerHTML = docLinkHtml;\n",
              "          element.appendChild(docLink);\n",
              "        }\n",
              "      </script>\n",
              "    </div>\n",
              "  </div>\n",
              "  "
            ],
            "text/plain": [
              "         Run       Event      pt1    eta1  ...    phi2  Q2    dxy2    iso2\n",
              "0     165617    74969122  54.7055 -0.4324  ... -0.4987  -1  0.0712  3.4221\n",
              "1     165617    75138253  24.5872 -2.0522  ... -1.9912   1  0.0515  0.0000\n",
              "2     165617    75887636  31.7386 -2.2595  ...  1.8833   1 -0.0876  0.0000\n",
              "3     165617    75779415  39.7394 -0.7123  ...  2.9703  -1 -0.0492  0.0000\n",
              "4     165617    75098104  41.2998 -0.1571  ... -0.0428  -1  0.0442  0.0000\n",
              "...      ...         ...      ...     ...  ...     ...  ..     ...     ...\n",
              "9995  173692  1245050481   8.9721 -1.6158  ...  2.7911   1 -0.0689  0.4202\n",
              "9996  173692  1244979327  39.4543 -1.1310  ...  1.7965  -1 -0.0794  0.0000\n",
              "9997  173692  1245305163  40.6034 -1.5051  ...  1.5380   1 -0.0671  1.1499\n",
              "9998  173692  1245041468  37.2853  1.0024  ...  0.8850  -1 -0.0291  0.0000\n",
              "9999  173692  1244770092  40.7389  1.1202  ...  2.8693   1 -0.0687  0.0000\n",
              "\n",
              "[10000 rows x 14 columns]"
            ]
          },
          "metadata": {},
          "execution_count": 5
        }
      ]
    },
    {
      "cell_type": "markdown",
      "source": [
        "##### How the invariant mass of two muons is calculated?\n",
        "\n",
        "$ M = \\sqrt{2p_t^1 p_t^2 (\\cosh (\\eta_1 - \\eta_2) - \\cos(\\phi_1 -\\phi_2))}$\n",
        "\n",
        "Write the same in the python block."
      ],
      "metadata": {
        "id": "Zs1ZSHA8UXxK"
      }
    },
    {
      "cell_type": "code",
      "source": [
        "# create a new column in the dataset which\n",
        "# contain the invariant mass\n",
        "\n",
        "df['M'] = np.sqrt(2 * df['pt1'] * df['pt2'] * (np.cosh(df['eta1'] - df['eta2']) - np.cos(df['phi1'] - df['phi2'])))\n",
        "df.head(5)"
      ],
      "metadata": {
        "colab": {
          "base_uri": "https://localhost:8080/",
          "height": 270
        },
        "id": "M-ksETMwUPc_",
        "outputId": "07ac88df-92ea-4b26-8da2-bc6662806035"
      },
      "execution_count": 7,
      "outputs": [
        {
          "output_type": "execute_result",
          "data": {
            "text/html": [
              "\n",
              "  <div id=\"df-2c3f07fe-8480-4c14-9c39-1e6b2e136b30\">\n",
              "    <div class=\"colab-df-container\">\n",
              "      <div>\n",
              "<style scoped>\n",
              "    .dataframe tbody tr th:only-of-type {\n",
              "        vertical-align: middle;\n",
              "    }\n",
              "\n",
              "    .dataframe tbody tr th {\n",
              "        vertical-align: top;\n",
              "    }\n",
              "\n",
              "    .dataframe thead th {\n",
              "        text-align: right;\n",
              "    }\n",
              "</style>\n",
              "<table border=\"1\" class=\"dataframe\">\n",
              "  <thead>\n",
              "    <tr style=\"text-align: right;\">\n",
              "      <th></th>\n",
              "      <th>Run</th>\n",
              "      <th>Event</th>\n",
              "      <th>pt1</th>\n",
              "      <th>eta1</th>\n",
              "      <th>phi1</th>\n",
              "      <th>Q1</th>\n",
              "      <th>dxy1</th>\n",
              "      <th>iso1</th>\n",
              "      <th>pt2</th>\n",
              "      <th>eta2</th>\n",
              "      <th>phi2</th>\n",
              "      <th>Q2</th>\n",
              "      <th>dxy2</th>\n",
              "      <th>iso2</th>\n",
              "      <th>M</th>\n",
              "    </tr>\n",
              "  </thead>\n",
              "  <tbody>\n",
              "    <tr>\n",
              "      <th>0</th>\n",
              "      <td>165617</td>\n",
              "      <td>74969122</td>\n",
              "      <td>54.7055</td>\n",
              "      <td>-0.4324</td>\n",
              "      <td>2.5742</td>\n",
              "      <td>1</td>\n",
              "      <td>-0.0745</td>\n",
              "      <td>0.4999</td>\n",
              "      <td>34.2464</td>\n",
              "      <td>-0.9885</td>\n",
              "      <td>-0.4987</td>\n",
              "      <td>-1</td>\n",
              "      <td>0.0712</td>\n",
              "      <td>3.4221</td>\n",
              "      <td>89.885919</td>\n",
              "    </tr>\n",
              "    <tr>\n",
              "      <th>1</th>\n",
              "      <td>165617</td>\n",
              "      <td>75138253</td>\n",
              "      <td>24.5872</td>\n",
              "      <td>-2.0522</td>\n",
              "      <td>2.8666</td>\n",
              "      <td>-1</td>\n",
              "      <td>-0.0554</td>\n",
              "      <td>0.0000</td>\n",
              "      <td>28.5389</td>\n",
              "      <td>0.3852</td>\n",
              "      <td>-1.9912</td>\n",
              "      <td>1</td>\n",
              "      <td>0.0515</td>\n",
              "      <td>0.0000</td>\n",
              "      <td>88.812177</td>\n",
              "    </tr>\n",
              "    <tr>\n",
              "      <th>2</th>\n",
              "      <td>165617</td>\n",
              "      <td>75887636</td>\n",
              "      <td>31.7386</td>\n",
              "      <td>-2.2595</td>\n",
              "      <td>-1.3323</td>\n",
              "      <td>-1</td>\n",
              "      <td>0.0879</td>\n",
              "      <td>0.0000</td>\n",
              "      <td>30.2344</td>\n",
              "      <td>-0.4684</td>\n",
              "      <td>1.8833</td>\n",
              "      <td>1</td>\n",
              "      <td>-0.0876</td>\n",
              "      <td>0.0000</td>\n",
              "      <td>88.474683</td>\n",
              "    </tr>\n",
              "    <tr>\n",
              "      <th>3</th>\n",
              "      <td>165617</td>\n",
              "      <td>75779415</td>\n",
              "      <td>39.7394</td>\n",
              "      <td>-0.7123</td>\n",
              "      <td>-0.3123</td>\n",
              "      <td>1</td>\n",
              "      <td>0.0585</td>\n",
              "      <td>0.0000</td>\n",
              "      <td>48.2790</td>\n",
              "      <td>-0.1956</td>\n",
              "      <td>2.9703</td>\n",
              "      <td>-1</td>\n",
              "      <td>-0.0492</td>\n",
              "      <td>0.0000</td>\n",
              "      <td>90.332429</td>\n",
              "    </tr>\n",
              "    <tr>\n",
              "      <th>4</th>\n",
              "      <td>165617</td>\n",
              "      <td>75098104</td>\n",
              "      <td>41.2998</td>\n",
              "      <td>-0.1571</td>\n",
              "      <td>-3.0408</td>\n",
              "      <td>1</td>\n",
              "      <td>-0.0305</td>\n",
              "      <td>1.2280</td>\n",
              "      <td>43.4508</td>\n",
              "      <td>0.5910</td>\n",
              "      <td>-0.0428</td>\n",
              "      <td>-1</td>\n",
              "      <td>0.0442</td>\n",
              "      <td>0.0000</td>\n",
              "      <td>90.515882</td>\n",
              "    </tr>\n",
              "  </tbody>\n",
              "</table>\n",
              "</div>\n",
              "      <button class=\"colab-df-convert\" onclick=\"convertToInteractive('df-2c3f07fe-8480-4c14-9c39-1e6b2e136b30')\"\n",
              "              title=\"Convert this dataframe to an interactive table.\"\n",
              "              style=\"display:none;\">\n",
              "        \n",
              "  <svg xmlns=\"http://www.w3.org/2000/svg\" height=\"24px\"viewBox=\"0 0 24 24\"\n",
              "       width=\"24px\">\n",
              "    <path d=\"M0 0h24v24H0V0z\" fill=\"none\"/>\n",
              "    <path d=\"M18.56 5.44l.94 2.06.94-2.06 2.06-.94-2.06-.94-.94-2.06-.94 2.06-2.06.94zm-11 1L8.5 8.5l.94-2.06 2.06-.94-2.06-.94L8.5 2.5l-.94 2.06-2.06.94zm10 10l.94 2.06.94-2.06 2.06-.94-2.06-.94-.94-2.06-.94 2.06-2.06.94z\"/><path d=\"M17.41 7.96l-1.37-1.37c-.4-.4-.92-.59-1.43-.59-.52 0-1.04.2-1.43.59L10.3 9.45l-7.72 7.72c-.78.78-.78 2.05 0 2.83L4 21.41c.39.39.9.59 1.41.59.51 0 1.02-.2 1.41-.59l7.78-7.78 2.81-2.81c.8-.78.8-2.07 0-2.86zM5.41 20L4 18.59l7.72-7.72 1.47 1.35L5.41 20z\"/>\n",
              "  </svg>\n",
              "      </button>\n",
              "      \n",
              "  <style>\n",
              "    .colab-df-container {\n",
              "      display:flex;\n",
              "      flex-wrap:wrap;\n",
              "      gap: 12px;\n",
              "    }\n",
              "\n",
              "    .colab-df-convert {\n",
              "      background-color: #E8F0FE;\n",
              "      border: none;\n",
              "      border-radius: 50%;\n",
              "      cursor: pointer;\n",
              "      display: none;\n",
              "      fill: #1967D2;\n",
              "      height: 32px;\n",
              "      padding: 0 0 0 0;\n",
              "      width: 32px;\n",
              "    }\n",
              "\n",
              "    .colab-df-convert:hover {\n",
              "      background-color: #E2EBFA;\n",
              "      box-shadow: 0px 1px 2px rgba(60, 64, 67, 0.3), 0px 1px 3px 1px rgba(60, 64, 67, 0.15);\n",
              "      fill: #174EA6;\n",
              "    }\n",
              "\n",
              "    [theme=dark] .colab-df-convert {\n",
              "      background-color: #3B4455;\n",
              "      fill: #D2E3FC;\n",
              "    }\n",
              "\n",
              "    [theme=dark] .colab-df-convert:hover {\n",
              "      background-color: #434B5C;\n",
              "      box-shadow: 0px 1px 3px 1px rgba(0, 0, 0, 0.15);\n",
              "      filter: drop-shadow(0px 1px 2px rgba(0, 0, 0, 0.3));\n",
              "      fill: #FFFFFF;\n",
              "    }\n",
              "  </style>\n",
              "\n",
              "      <script>\n",
              "        const buttonEl =\n",
              "          document.querySelector('#df-2c3f07fe-8480-4c14-9c39-1e6b2e136b30 button.colab-df-convert');\n",
              "        buttonEl.style.display =\n",
              "          google.colab.kernel.accessAllowed ? 'block' : 'none';\n",
              "\n",
              "        async function convertToInteractive(key) {\n",
              "          const element = document.querySelector('#df-2c3f07fe-8480-4c14-9c39-1e6b2e136b30');\n",
              "          const dataTable =\n",
              "            await google.colab.kernel.invokeFunction('convertToInteractive',\n",
              "                                                     [key], {});\n",
              "          if (!dataTable) return;\n",
              "\n",
              "          const docLinkHtml = 'Like what you see? Visit the ' +\n",
              "            '<a target=\"_blank\" href=https://colab.research.google.com/notebooks/data_table.ipynb>data table notebook</a>'\n",
              "            + ' to learn more about interactive tables.';\n",
              "          element.innerHTML = '';\n",
              "          dataTable['output_type'] = 'display_data';\n",
              "          await google.colab.output.renderOutput(dataTable, element);\n",
              "          const docLink = document.createElement('div');\n",
              "          docLink.innerHTML = docLinkHtml;\n",
              "          element.appendChild(docLink);\n",
              "        }\n",
              "      </script>\n",
              "    </div>\n",
              "  </div>\n",
              "  "
            ],
            "text/plain": [
              "      Run     Event      pt1    eta1  ...  Q2    dxy2    iso2          M\n",
              "0  165617  74969122  54.7055 -0.4324  ...  -1  0.0712  3.4221  89.885919\n",
              "1  165617  75138253  24.5872 -2.0522  ...   1  0.0515  0.0000  88.812177\n",
              "2  165617  75887636  31.7386 -2.2595  ...   1 -0.0876  0.0000  88.474683\n",
              "3  165617  75779415  39.7394 -0.7123  ...  -1 -0.0492  0.0000  90.332429\n",
              "4  165617  75098104  41.2998 -0.1571  ...  -1  0.0442  0.0000  90.515882\n",
              "\n",
              "[5 rows x 15 columns]"
            ]
          },
          "metadata": {},
          "execution_count": 7
        }
      ]
    },
    {
      "cell_type": "markdown",
      "source": [
        "### Model\n",
        "The distribution of the Z-boson mass has the form of a normal distribution, in addition there's noise, and the distribution of the noise has an exponential form. Hence the resulting form will be a superposition of both the distributions.\n",
        "\n",
        "Now, let's plot the distribution"
      ],
      "metadata": {
        "id": "-vvQxydIVoGj"
      }
    },
    {
      "cell_type": "code",
      "source": [
        "# function to plot\n",
        "\n",
        "def plot_mass(mass, bins_count=100):\n",
        "  y,x = np.histogram(mass, bins = bins_count, density = False)\n",
        "  err = np.sqrt(y)\n",
        "\n",
        "\n",
        "  fig = plt.figure(figsize = (16,8))\n",
        "  plt.title('Z-Boson Mass', fontsize=21)\n",
        "  plt.xlabel(\"$m_{\\mu\\mu}$ [GeV]\", fontsize = 21)\n",
        "  plt.ylabel(\"Number of events\", fontsize=21)\n",
        "  plt.errorbar(x[:-1], y , yerr = err, fmt = 'o', color ='blue' ,ecolor='grey', capthick=0.5, zorder=1, label=\"data\")\n",
        "  return y, x"
      ],
      "metadata": {
        "id": "NT2skQCqVNaz"
      },
      "execution_count": 8,
      "outputs": []
    },
    {
      "cell_type": "code",
      "source": [
        "# now plot the invariant mass\n",
        "# the \";\" is added to only print the plot, not the entire data \n",
        "plot_mass(df.M);"
      ],
      "metadata": {
        "colab": {
          "base_uri": "https://localhost:8080/",
          "height": 358
        },
        "id": "r07FBy4TW0kl",
        "outputId": "87e0b83a-f8a1-4ad9-ae7b-acf55f9d0540"
      },
      "execution_count": 10,
      "outputs": [
        {
          "output_type": "display_data",
          "data": {
            "image/png": "[encoded data removed]",
            "text/plain": [
              "<Figure size 1152x576 with 1 Axes>"
            ]
          },
          "metadata": {
            "needs_background": "light"
          }
        }
      ]
    },
    {
      "cell_type": "markdown",
      "source": [
        "### Clean up the dataset\n",
        "\n",
        "We need certain criteria to be met.\n",
        "\n",
        "\n",
        "1.   We need that the charge of two muons considered should be opposite.\n",
        "2.   We want the $I_{track} < 3$ and $d_{xy} < 0.2 cm$\n",
        "\n"
      ],
      "metadata": {
        "id": "AzDEpBUBXJKo"
      }
    },
    {
      "cell_type": "code",
      "source": [
        "df_sign = df[((df.Q1 > 0) & (df.Q2 < 0)) | ((df.Q1 < 0) & (df.Q2 > 0))]"
      ],
      "metadata": {
        "id": "0ISJcxp4W8rt"
      },
      "execution_count": 11,
      "outputs": []
    },
    {
      "cell_type": "code",
      "source": [
        "df_isolation = df_sign[(df_sign.iso1 < 3) & (df_sign.iso2 < 3) & (df_sign.dxy1.abs() < 0.2) & (df_sign.dxy2.abs() < 0.2)]"
      ],
      "metadata": {
        "id": "VMyu4VHUYpMV"
      },
      "execution_count": 13,
      "outputs": []
    },
    {
      "cell_type": "code",
      "source": [
        "df = df_isolation"
      ],
      "metadata": {
        "id": "btGu9hmeYtFK"
      },
      "execution_count": 14,
      "outputs": []
    },
    {
      "cell_type": "code",
      "source": [
        "df.head(5)"
      ],
      "metadata": {
        "colab": {
          "base_uri": "https://localhost:8080/",
          "height": 270
        },
        "id": "fS2QqVaHY1WE",
        "outputId": "cdf9d7fc-6572-47cc-fc74-e9adf10a9030"
      },
      "execution_count": 15,
      "outputs": [
        {
          "output_type": "execute_result",
          "data": {
            "text/html": [
              "\n",
              "  <div id=\"df-fe23b098-616c-4eaa-a421-c822a1a313e9\">\n",
              "    <div class=\"colab-df-container\">\n",
              "      <div>\n",
              "<style scoped>\n",
              "    .dataframe tbody tr th:only-of-type {\n",
              "        vertical-align: middle;\n",
              "    }\n",
              "\n",
              "    .dataframe tbody tr th {\n",
              "        vertical-align: top;\n",
              "    }\n",
              "\n",
              "    .dataframe thead th {\n",
              "        text-align: right;\n",
              "    }\n",
              "</style>\n",
              "<table border=\"1\" class=\"dataframe\">\n",
              "  <thead>\n",
              "    <tr style=\"text-align: right;\">\n",
              "      <th></th>\n",
              "      <th>Run</th>\n",
              "      <th>Event</th>\n",
              "      <th>pt1</th>\n",
              "      <th>eta1</th>\n",
              "      <th>phi1</th>\n",
              "      <th>Q1</th>\n",
              "      <th>dxy1</th>\n",
              "      <th>iso1</th>\n",
              "      <th>pt2</th>\n",
              "      <th>eta2</th>\n",
              "      <th>phi2</th>\n",
              "      <th>Q2</th>\n",
              "      <th>dxy2</th>\n",
              "      <th>iso2</th>\n",
              "      <th>M</th>\n",
              "    </tr>\n",
              "  </thead>\n",
              "  <tbody>\n",
              "    <tr>\n",
              "      <th>1</th>\n",
              "      <td>165617</td>\n",
              "      <td>75138253</td>\n",
              "      <td>24.5872</td>\n",
              "      <td>-2.0522</td>\n",
              "      <td>2.8666</td>\n",
              "      <td>-1</td>\n",
              "      <td>-0.0554</td>\n",
              "      <td>0.000</td>\n",
              "      <td>28.5389</td>\n",
              "      <td>0.3852</td>\n",
              "      <td>-1.9912</td>\n",
              "      <td>1</td>\n",
              "      <td>0.0515</td>\n",
              "      <td>0.0</td>\n",
              "      <td>88.812177</td>\n",
              "    </tr>\n",
              "    <tr>\n",
              "      <th>2</th>\n",
              "      <td>165617</td>\n",
              "      <td>75887636</td>\n",
              "      <td>31.7386</td>\n",
              "      <td>-2.2595</td>\n",
              "      <td>-1.3323</td>\n",
              "      <td>-1</td>\n",
              "      <td>0.0879</td>\n",
              "      <td>0.000</td>\n",
              "      <td>30.2344</td>\n",
              "      <td>-0.4684</td>\n",
              "      <td>1.8833</td>\n",
              "      <td>1</td>\n",
              "      <td>-0.0876</td>\n",
              "      <td>0.0</td>\n",
              "      <td>88.474683</td>\n",
              "    </tr>\n",
              "    <tr>\n",
              "      <th>3</th>\n",
              "      <td>165617</td>\n",
              "      <td>75779415</td>\n",
              "      <td>39.7394</td>\n",
              "      <td>-0.7123</td>\n",
              "      <td>-0.3123</td>\n",
              "      <td>1</td>\n",
              "      <td>0.0585</td>\n",
              "      <td>0.000</td>\n",
              "      <td>48.2790</td>\n",
              "      <td>-0.1956</td>\n",
              "      <td>2.9703</td>\n",
              "      <td>-1</td>\n",
              "      <td>-0.0492</td>\n",
              "      <td>0.0</td>\n",
              "      <td>90.332429</td>\n",
              "    </tr>\n",
              "    <tr>\n",
              "      <th>4</th>\n",
              "      <td>165617</td>\n",
              "      <td>75098104</td>\n",
              "      <td>41.2998</td>\n",
              "      <td>-0.1571</td>\n",
              "      <td>-3.0408</td>\n",
              "      <td>1</td>\n",
              "      <td>-0.0305</td>\n",
              "      <td>1.228</td>\n",
              "      <td>43.4508</td>\n",
              "      <td>0.5910</td>\n",
              "      <td>-0.0428</td>\n",
              "      <td>-1</td>\n",
              "      <td>0.0442</td>\n",
              "      <td>0.0</td>\n",
              "      <td>90.515882</td>\n",
              "    </tr>\n",
              "    <tr>\n",
              "      <th>5</th>\n",
              "      <td>165617</td>\n",
              "      <td>77255513</td>\n",
              "      <td>38.9425</td>\n",
              "      <td>0.3522</td>\n",
              "      <td>-2.2649</td>\n",
              "      <td>-1</td>\n",
              "      <td>0.0384</td>\n",
              "      <td>0.000</td>\n",
              "      <td>39.8616</td>\n",
              "      <td>0.2630</td>\n",
              "      <td>0.9183</td>\n",
              "      <td>1</td>\n",
              "      <td>-0.0407</td>\n",
              "      <td>0.0</td>\n",
              "      <td>78.860090</td>\n",
              "    </tr>\n",
              "  </tbody>\n",
              "</table>\n",
              "</div>\n",
              "      <button class=\"colab-df-convert\" onclick=\"convertToInteractive('df-fe23b098-616c-4eaa-a421-c822a1a313e9')\"\n",
              "              title=\"Convert this dataframe to an interactive table.\"\n",
              "              style=\"display:none;\">\n",
              "        \n",
              "  <svg xmlns=\"http://www.w3.org/2000/svg\" height=\"24px\"viewBox=\"0 0 24 24\"\n",
              "       width=\"24px\">\n",
              "    <path d=\"M0 0h24v24H0V0z\" fill=\"none\"/>\n",
              "    <path d=\"M18.56 5.44l.94 2.06.94-2.06 2.06-.94-2.06-.94-.94-2.06-.94 2.06-2.06.94zm-11 1L8.5 8.5l.94-2.06 2.06-.94-2.06-.94L8.5 2.5l-.94 2.06-2.06.94zm10 10l.94 2.06.94-2.06 2.06-.94-2.06-.94-.94-2.06-.94 2.06-2.06.94z\"/><path d=\"M17.41 7.96l-1.37-1.37c-.4-.4-.92-.59-1.43-.59-.52 0-1.04.2-1.43.59L10.3 9.45l-7.72 7.72c-.78.78-.78 2.05 0 2.83L4 21.41c.39.39.9.59 1.41.59.51 0 1.02-.2 1.41-.59l7.78-7.78 2.81-2.81c.8-.78.8-2.07 0-2.86zM5.41 20L4 18.59l7.72-7.72 1.47 1.35L5.41 20z\"/>\n",
              "  </svg>\n",
              "      </button>\n",
              "      \n",
              "  <style>\n",
              "    .colab-df-container {\n",
              "      display:flex;\n",
              "      flex-wrap:wrap;\n",
              "      gap: 12px;\n",
              "    }\n",
              "\n",
              "    .colab-df-convert {\n",
              "      background-color: #E8F0FE;\n",
              "      border: none;\n",
              "      border-radius: 50%;\n",
              "      cursor: pointer;\n",
              "      display: none;\n",
              "      fill: #1967D2;\n",
              "      height: 32px;\n",
              "      padding: 0 0 0 0;\n",
              "      width: 32px;\n",
              "    }\n",
              "\n",
              "    .colab-df-convert:hover {\n",
              "      background-color: #E2EBFA;\n",
              "      box-shadow: 0px 1px 2px rgba(60, 64, 67, 0.3), 0px 1px 3px 1px rgba(60, 64, 67, 0.15);\n",
              "      fill: #174EA6;\n",
              "    }\n",
              "\n",
              "    [theme=dark] .colab-df-convert {\n",
              "      background-color: #3B4455;\n",
              "      fill: #D2E3FC;\n",
              "    }\n",
              "\n",
              "    [theme=dark] .colab-df-convert:hover {\n",
              "      background-color: #434B5C;\n",
              "      box-shadow: 0px 1px 3px 1px rgba(0, 0, 0, 0.15);\n",
              "      filter: drop-shadow(0px 1px 2px rgba(0, 0, 0, 0.3));\n",
              "      fill: #FFFFFF;\n",
              "    }\n",
              "  </style>\n",
              "\n",
              "      <script>\n",
              "        const buttonEl =\n",
              "          document.querySelector('#df-fe23b098-616c-4eaa-a421-c822a1a313e9 button.colab-df-convert');\n",
              "        buttonEl.style.display =\n",
              "          google.colab.kernel.accessAllowed ? 'block' : 'none';\n",
              "\n",
              "        async function convertToInteractive(key) {\n",
              "          const element = document.querySelector('#df-fe23b098-616c-4eaa-a421-c822a1a313e9');\n",
              "          const dataTable =\n",
              "            await google.colab.kernel.invokeFunction('convertToInteractive',\n",
              "                                                     [key], {});\n",
              "          if (!dataTable) return;\n",
              "\n",
              "          const docLinkHtml = 'Like what you see? Visit the ' +\n",
              "            '<a target=\"_blank\" href=https://colab.research.google.com/notebooks/data_table.ipynb>data table notebook</a>'\n",
              "            + ' to learn more about interactive tables.';\n",
              "          element.innerHTML = '';\n",
              "          dataTable['output_type'] = 'display_data';\n",
              "          await google.colab.output.renderOutput(dataTable, element);\n",
              "          const docLink = document.createElement('div');\n",
              "          docLink.innerHTML = docLinkHtml;\n",
              "          element.appendChild(docLink);\n",
              "        }\n",
              "      </script>\n",
              "    </div>\n",
              "  </div>\n",
              "  "
            ],
            "text/plain": [
              "      Run     Event      pt1    eta1  ...  Q2    dxy2  iso2          M\n",
              "1  165617  75138253  24.5872 -2.0522  ...   1  0.0515   0.0  88.812177\n",
              "2  165617  75887636  31.7386 -2.2595  ...   1 -0.0876   0.0  88.474683\n",
              "3  165617  75779415  39.7394 -0.7123  ...  -1 -0.0492   0.0  90.332429\n",
              "4  165617  75098104  41.2998 -0.1571  ...  -1  0.0442   0.0  90.515882\n",
              "5  165617  77255513  38.9425  0.3522  ...   1 -0.0407   0.0  78.860090\n",
              "\n",
              "[5 rows x 15 columns]"
            ]
          },
          "metadata": {},
          "execution_count": 15
        }
      ]
    },
    {
      "cell_type": "code",
      "source": [
        "plot_mass(df.M);"
      ],
      "metadata": {
        "colab": {
          "base_uri": "https://localhost:8080/",
          "height": 358
        },
        "id": "ncilIG3CY2jy",
        "outputId": "a8ba3b72-fd77-47fb-d2d6-1b58fed07d54"
      },
      "execution_count": 16,
      "outputs": [
        {
          "output_type": "display_data",
          "data": {
            "image/png": "[encoded data removed]",
            "text/plain": [
              "<Figure size 1152x576 with 1 Axes>"
            ]
          },
          "metadata": {
            "needs_background": "light"
          }
        }
      ]
    },
    {
      "cell_type": "markdown",
      "source": [
        "### Parameterised Model\n",
        "Our model will be a mixture of\n",
        "\n",
        "\n",
        "1.   Gaussian Signal\n",
        "2.   Exponential noise signal\n",
        "\n",
        "So, we get the following parameters:\n",
        "\n",
        "\n",
        "*   $m_0$ : center of the gaussian\n",
        "*   $\\sigma$ : standard deviation of the gaussian\n",
        "*   amplitude : height of the peak\n",
        "*  bck : height of the background\n",
        "\n",
        "\n",
        "Finding these parameters is called the $fitting$ model into the data.\n",
        "\n",
        "\n",
        "\n"
      ],
      "metadata": {
        "id": "SDpQGW3jZGA1"
      }
    },
    {
      "cell_type": "code",
      "source": [
        "def model_predict(params, X):\n",
        "  m0, sigma, ampl, bck = params\n",
        "  return bck+ ampl /(sigma * np.sqrt(2* np.pi))  * np.exp((-1) * (X - m0)**2 / (2 * sigma**2))\n"
      ],
      "metadata": {
        "id": "92KjMSfqZCce"
      },
      "execution_count": 17,
      "outputs": []
    },
    {
      "cell_type": "code",
      "source": [
        "def model_loss(params, X, y):\n",
        "   residuals = y - model_predict(params,X)\n",
        "   return np.sum(residuals**2)/ len(residuals)"
      ],
      "metadata": {
        "id": "8jp4ANmjaQ4D"
      },
      "execution_count": 18,
      "outputs": []
    },
    {
      "cell_type": "code",
      "source": [
        "def plot_mass_with_model(params, mass, bins_count=100):\n",
        "    y, X = plot_mass(mass, bins_count=bins_count)\n",
        "    X = (X[1:] + X[:-1]) / 2\n",
        "    error = model_loss(params, X, y)\n",
        "    plt.plot(X, model_predict(params, X), color='blue', linewidth=3.0, zorder=2, label=\"fit, loss=%.2f\" % error)\n",
        "    plt.legend(fontsize='x-large')"
      ],
      "metadata": {
        "id": "dunCmIovaeGw"
      },
      "execution_count": 19,
      "outputs": []
    },
    {
      "cell_type": "markdown",
      "source": [
        "### Fitting the model parameters using Scikit Optimizer"
      ],
      "metadata": {
        "id": "Cm6z1XSwaj2b"
      }
    },
    {
      "cell_type": "code",
      "source": [
        "from tqdm import tqdm\n",
        "from skopt import Optimizer\n",
        "\n",
        "search_space = [(30.0, 180.0), # m0 range\n",
        "    (0.5, 10.0), # sigma range\n",
        "    (2000, 8000), # amplitude range\n",
        "    (0, 50) # bck range\n",
        "    ]\n",
        "y, X = np.histogram(df.M, bins=120, density=False)\n",
        "X = (X[1:] + X[:-1]) / 2\n",
        "opt = Optimizer(search_space, base_estimator=\"GP\", acq_func=\"EI\", acq_optimizer=\"lbfgs\")"
      ],
      "metadata": {
        "id": "Y4lz4wyLahW_"
      },
      "execution_count": 20,
      "outputs": []
    },
    {
      "cell_type": "code",
      "source": [
        "from skopt.utils import create_result\n",
        "for i in tqdm(range(50)):\n",
        "    next_x = opt.ask()\n",
        "    f_val = model_loss(next_x, X, y)\n",
        "    opt.tell(next_x, f_val)\n",
        "    \n",
        "res = create_result(Xi=opt.Xi, yi=opt.yi, space=opt.space,\n",
        "                         rng=opt.rng, models=opt.models)"
      ],
      "metadata": {
        "colab": {
          "base_uri": "https://localhost:8080/"
        },
        "id": "HvN0M8viaq_s",
        "outputId": "a3c96cb9-a674-4133-e9dd-576139e803c4"
      },
      "execution_count": 21,
      "outputs": [
        {
          "output_type": "stream",
          "name": "stderr",
          "text": [
            "100%|██████████| 50/50 [00:24<00:00,  2.02it/s]\n"
          ]
        }
      ]
    },
    {
      "cell_type": "markdown",
      "source": [
        "### The search history"
      ],
      "metadata": {
        "id": "fDA9CaPjawkS"
      }
    },
    {
      "cell_type": "code",
      "source": [
        "import skopt.plots\n",
        "skopt.plots.plot_convergence(res)\n",
        "print (list(zip([\"m0\", \"sigma\", \"ampl\", \"bck\"], res.x)))"
      ],
      "metadata": {
        "colab": {
          "base_uri": "https://localhost:8080/",
          "height": 334
        },
        "id": "xnAnshodauGp",
        "outputId": "10588085-a04c-42a8-87ac-9156a6c50459"
      },
      "execution_count": 22,
      "outputs": [
        {
          "output_type": "stream",
          "name": "stdout",
          "text": [
            "[('m0', 90.35845303809043), ('sigma', 3.0355178505954794), ('ampl', 3351), ('bck', 2)]\n"
          ]
        },
        {
          "output_type": "display_data",
          "data": {
            "image/png": "[encoded data removed]",
            "text/plain": [
              "<Figure size 432x288 with 1 Axes>"
            ]
          },
          "metadata": {
            "needs_background": "light"
          }
        }
      ]
    },
    {
      "cell_type": "markdown",
      "source": [
        "How well our prediction fits the model?"
      ],
      "metadata": {
        "id": "7fpWx50Ha2n_"
      }
    },
    {
      "cell_type": "code",
      "source": [
        "plot_mass_with_model(res.x, df.M, bins_count=120)"
      ],
      "metadata": {
        "colab": {
          "base_uri": "https://localhost:8080/",
          "height": 358
        },
        "id": "qv6kpjnqa08b",
        "outputId": "966af39d-ab2a-4f93-d6a5-d4d859a90826"
      },
      "execution_count": 23,
      "outputs": [
        {
          "output_type": "display_data",
          "data": {
            "image/png": "[encoded data removed]",
            "text/plain": [
              "<Figure size 1152x576 with 1 Axes>"
            ]
          },
          "metadata": {
            "needs_background": "light"
          }
        }
      ]
    },
    {
      "cell_type": "code",
      "source": [
        ""
      ],
      "metadata": {
        "id": "oSp1e1m3a8S6"
      },
      "execution_count": null,
      "outputs": []
    }
  ]
}