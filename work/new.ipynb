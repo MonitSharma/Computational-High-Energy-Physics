{
 "cells": [
  {
   "cell_type": "code",
   "execution_count": 1,
   "metadata": {},
   "outputs": [],
   "source": [
    "import pandas as pd\n",
    "from docplex.mp.model import Model\n",
    "from qiskit_optimization import QuadraticProgram\n",
    "from qiskit_optimization.translators import from_docplex_mp\n",
    "from qiskit_optimization.converters import QuadraticProgramToQubo\n",
    "import numpy as np\n",
    "import dimod\n",
    "from dwave.system import DWaveSampler\n",
    "from dwave_qbsolv import QBSolv"
   ]
  },
  {
   "cell_type": "code",
   "execution_count": 2,
   "metadata": {},
   "outputs": [],
   "source": [
    "\n",
    "import neal\n",
    "from dwave.system import LeapHybridSampler"
   ]
  },
  {
   "cell_type": "code",
   "execution_count": 3,
   "metadata": {},
   "outputs": [],
   "source": [
    "numLocs = 80\n",
    "numDCs = 5\n",
    "capDC = 40\n",
    "maxDCs = 2\n",
    "DCs = [\"Thane\", \"Powai\", \"CST\", \"Vashi\", \"Panvel\"]\n",
    "\n",
    "locsServed = {\"Thane\": 10, \n",
    "              \"Powai\": 20, \n",
    "              \"CST\": 30, \n",
    "              \"Vashi\": 10, \n",
    "              \"Panvel\": 10}\n",
    "\n",
    "\n",
    "\n",
    "distMat = pd.DataFrame({\"Thane\": [0, 5, 20, 8, 25],\n",
    "                        \"Powai\": [5, 0, 15, 12, 27],\n",
    "                        \"CST\": [20, 15, 0, 10, 30],\n",
    "                        \"Vashi\": [8, 12, 10, 0, 10],\n",
    "                        \"Panvel\": [25, 27, 30, 10, 0]})\n"
   ]
  },
  {
   "cell_type": "code",
   "execution_count": 4,
   "metadata": {},
   "outputs": [],
   "source": [
    "mdl = Model(name='Toy Problem - 5 DCs')\n",
    "\n",
    "x = mdl.binary_var_dict([(i, j) for j in range(numDCs) for i in range(numDCs)], name='x')\n",
    "\n",
    "obj = mdl.sum(distMat.iloc[i, j] * x[i, j] for j in range(numDCs) for i in range(numDCs))\n",
    "mdl.minimize(obj)\n",
    "\n",
    "con1 = mdl.add_constraints(mdl.sum(x[i, j] for j in range(numDCs)) == 1 for i in range(numDCs))\n",
    "\n",
    "con2 = mdl.add_constraints(mdl.sum(x[i, j] * list(locsServed.values())[i] for i in range(numDCs)) \n",
    "                           <= capDC * x[j, j] for j in range(numDCs))     \n",
    "\n",
    "con3 = mdl.add_constraint(mdl.sum(x[j, j] for j in range(numDCs)) == maxDCs)"
   ]
  },
  {
   "cell_type": "code",
   "execution_count": 5,
   "metadata": {},
   "outputs": [],
   "source": [
    "qp = from_docplex_mp(mdl)\n",
    "qubo = QuadraticProgramToQubo().convert(qp)"
   ]
  },
  {
   "cell_type": "code",
   "execution_count": 6,
   "metadata": {},
   "outputs": [],
   "source": [
    "bqm_binary = dimod.as_bqm(qubo.objective.linear.to_array(), qubo.objective.quadratic.to_array(), dimod.BINARY)"
   ]
  },
  {
   "cell_type": "code",
   "execution_count": 9,
   "metadata": {},
   "outputs": [],
   "source": [
    "import dimod\n",
    "import hybrid"
   ]
  },
  {
   "cell_type": "code",
   "execution_count": null,
   "metadata": {},
   "outputs": [],
   "source": [
    "# Define the workflow\n",
    "iteration = hybrid.RacingBranches(\n",
    "    hybrid.InterruptableTabuSampler(),\n",
    "    hybrid.EnergyImpactDecomposer(size=2)\n",
    "    | hybrid.QPUSubproblemAutoEmbeddingSampler()\n",
    "    | hybrid.SplatComposer()\n",
    ") | hybrid.ArgMin()\n",
    "workflow = hybrid.LoopUntilNoImprovement(iteration, convergence=3)"
   ]
  },
  {
   "cell_type": "code",
   "execution_count": null,
   "metadata": {},
   "outputs": [],
   "source": [
    "init_state = hybrid.State.from_problem(bqm_binary)"
   ]
  },
  {
   "cell_type": "code",
   "execution_count": 7,
   "metadata": {},
   "outputs": [],
   "source": [
    "sampler = QBSolv()\n",
    "\n",
    "result = sampler.sample(bqm_binary, label=\"example_qp\",num_reads=1000)"
   ]
  },
  {
   "cell_type": "code",
   "execution_count": 8,
   "metadata": {},
   "outputs": [
    {
     "name": "stdout",
     "output_type": "stream",
     "text": [
      "Sample(sample={0: 0, 1: 0, 2: 0, 3: 0, 4: 0, 5: 1, 6: 1, 7: 0, 8: 0, 9: 0, 10: 0, 11: 0, 12: 1, 13: 0, 14: 0, 15: 0, 16: 0, 17: 0, 18: 1, 19: 1, 20: 0, 21: 0, 22: 0, 23: 0, 24: 0, 25: 0, 26: 0, 27: 0, 28: 0, 29: 0, 30: 1, 31: 0, 32: 1, 33: 0, 34: 1, 35: 1, 36: 1, 37: 1, 38: 1, 39: 1, 40: 0, 41: 1, 42: 0, 43: 1, 44: 0, 45: 0, 46: 0, 47: 0, 48: 0}, energy=-2585.0, num_occurrences=1)\n"
     ]
    }
   ],
   "source": [
    "print(result.first)"
   ]
  },
  {
   "cell_type": "code",
   "execution_count": null,
   "metadata": {},
   "outputs": [],
   "source": []
  }
 ],
 "metadata": {
  "interpreter": {
   "hash": "1baa965d5efe3ac65b79dfc60c0d706280b1da80fedb7760faf2759126c4f253"
  },
  "kernelspec": {
   "display_name": "Python 3.8.9 64-bit",
   "language": "python",
   "name": "python3"
  },
  "language_info": {
   "codemirror_mode": {
    "name": "ipython",
    "version": 3
   },
   "file_extension": ".py",
   "mimetype": "text/x-python",
   "name": "python",
   "nbconvert_exporter": "python",
   "pygments_lexer": "ipython3",
   "version": "3.8.9"
  },
  "orig_nbformat": 4
 },
 "nbformat": 4,
 "nbformat_minor": 2
}
